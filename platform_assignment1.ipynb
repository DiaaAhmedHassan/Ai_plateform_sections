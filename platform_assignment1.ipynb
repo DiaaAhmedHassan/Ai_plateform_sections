{
 "cells": [
  {
   "cell_type": "code",
   "execution_count": 61,
   "metadata": {},
   "outputs": [],
   "source": [
    "import torch\n",
    "import torch.nn as nn\n",
    "import torch.nn.functional as fun\n",
    "import torch.optim as sgd"
   ]
  },
  {
   "cell_type": "code",
   "execution_count": 62,
   "metadata": {},
   "outputs": [],
   "source": [
    "import os\n",
    "\n",
    "os.environ[\"KMP_DUPLICATE_LIB_OK\"] = \"TRUE\""
   ]
  },
  {
   "cell_type": "code",
   "execution_count": 63,
   "metadata": {},
   "outputs": [],
   "source": [
    "class simpleNN(nn.Module):\n",
    "    def __init__(self):\n",
    "        super().__init__()\n",
    "        self.w00 = nn.Parameter(torch.rand(1), requires_grad=False)\n",
    "        self.b00 = nn.Parameter(torch.rand(1), requires_grad=False)\n",
    "        self.w01 = nn.Parameter(torch.rand(1), requires_grad= False)\n",
    "        self.b01 = nn.Parameter(torch.rand(1), requires_grad = False)\n",
    "        self.w02 = nn.Parameter(torch.rand(1), requires_grad= False)\n",
    "        self.b02 = nn.Parameter(torch.rand(1), requires_grad = False)\n",
    "\n",
    "        self.w10 = nn.Parameter(torch.rand(1), requires_grad = False)\n",
    "        self.w11 = nn.Parameter(torch.rand(1), requires_grad = False)\n",
    "        self.w12 = nn.Parameter(torch.rand(1), requires_grad = False)\n",
    "        self.w20 = nn.Parameter(torch.rand(1), requires_grad = False)\n",
    "\n",
    "    def forward(self, input):\n",
    "        input_to_layer01 = input*self.w00 + self.b00\n",
    "        layer01_output = fun.sigmoid(input_to_layer01)\n",
    "        layer01_output = layer01_output * self.w10\n",
    "\n",
    "        input_to_layer02 = input * self.w01 + self.b01\n",
    "        layer02_output = fun.sigmoid(input_to_layer02)\n",
    "        layer02_output = layer02_output * self.w11\n",
    "\n",
    "        input_to_layer03 = input * self.w02 + self.b02\n",
    "        layer03_output = fun.sigmoid(input_to_layer03)\n",
    "        layer03_output = layer03_output * self.w12\n",
    "\n",
    "        output = layer01_output + layer02_output + layer03_output\n",
    "\n",
    "        output = fun.tanh(output)\n",
    "        output = output * self.w20\n",
    "\n",
    "        return output"
   ]
  },
  {
   "cell_type": "code",
   "execution_count": 64,
   "metadata": {},
   "outputs": [],
   "source": [
    "simple_nn = simpleNN()\n"
   ]
  },
  {
   "cell_type": "code",
   "execution_count": 65,
   "metadata": {},
   "outputs": [
    {
     "data": {
      "text/plain": [
       "tensor([1.0000, 1.0385, 1.0769, 1.1154, 1.1538, 1.1923, 1.2308, 1.2692, 1.3077,\n",
       "        1.3462, 1.3846, 1.4231, 1.4615, 1.5000, 1.5385, 1.5769, 1.6154, 1.6538,\n",
       "        1.6923, 1.7308, 1.7692, 1.8077, 1.8462, 1.8846, 1.9231, 1.9615, 2.0000,\n",
       "        2.0385, 2.0769, 2.1154, 2.1538, 2.1923, 2.2308, 2.2692, 2.3077, 2.3462,\n",
       "        2.3846, 2.4231, 2.4615, 2.5000])"
      ]
     },
     "execution_count": 65,
     "metadata": {},
     "output_type": "execute_result"
    }
   ],
   "source": [
    "x = torch.linspace(start=1, end=2.5, steps=40)\n",
    "x"
   ]
  },
  {
   "cell_type": "code",
   "execution_count": 66,
   "metadata": {},
   "outputs": [],
   "source": [
    "y = simple_nn(x)"
   ]
  },
  {
   "cell_type": "code",
   "execution_count": 67,
   "metadata": {},
   "outputs": [
    {
     "data": {
      "text/plain": [
       "tensor([0.7002, 0.7012, 0.7023, 0.7033, 0.7043, 0.7053, 0.7063, 0.7072, 0.7081,\n",
       "        0.7091, 0.7099, 0.7108, 0.7117, 0.7125, 0.7134, 0.7142, 0.7150, 0.7158,\n",
       "        0.7165, 0.7173, 0.7180, 0.7187, 0.7195, 0.7201, 0.7208, 0.7215, 0.7222,\n",
       "        0.7228, 0.7234, 0.7241, 0.7247, 0.7253, 0.7259, 0.7264, 0.7270, 0.7275,\n",
       "        0.7281, 0.7286, 0.7291, 0.7296])"
      ]
     },
     "execution_count": 67,
     "metadata": {},
     "output_type": "execute_result"
    }
   ],
   "source": [
    "y"
   ]
  },
  {
   "cell_type": "code",
   "execution_count": 68,
   "metadata": {},
   "outputs": [
    {
     "name": "stderr",
     "output_type": "stream",
     "text": [
      "c:\\Users\\diaal\\anaconda3\\Lib\\site-packages\\seaborn\\_oldcore.py:1119: FutureWarning: use_inf_as_na option is deprecated and will be removed in a future version. Convert inf values to NaN before operating instead.\n",
      "  with pd.option_context('mode.use_inf_as_na', True):\n",
      "c:\\Users\\diaal\\anaconda3\\Lib\\site-packages\\seaborn\\_oldcore.py:1119: FutureWarning: use_inf_as_na option is deprecated and will be removed in a future version. Convert inf values to NaN before operating instead.\n",
      "  with pd.option_context('mode.use_inf_as_na', True):\n"
     ]
    },
    {
     "data": {
      "text/plain": [
       "<Axes: >"
      ]
     },
     "execution_count": 68,
     "metadata": {},
     "output_type": "execute_result"
    },
    {
     "data": {
      "image/png": "[encoded data removed]",
      "text/plain": [
       "<Figure size 640x480 with 1 Axes>"
      ]
     },
     "metadata": {},
     "output_type": "display_data"
    }
   ],
   "source": [
    "import numpy as np\n",
    "import seaborn as sns\n",
    "\n",
    "sns.set(style=\"whitegrid\")\n",
    "sns.lineplot(\n",
    "    x=x,\n",
    "    y=y.detach(),\n",
    "    linewidth=3,\n",
    "    color='red'\n",
    ")\n",
    "\n"
   ]
  },
  {
   "cell_type": "code",
   "execution_count": 69,
   "metadata": {},
   "outputs": [],
   "source": [
    "class TrainableNN(nn.Module):\n",
    "    def __init__(self):\n",
    "        super().__init__()\n",
    "        self.w00 = nn.Parameter(torch.rand(1), requires_grad=True)\n",
    "        self.b00 = nn.Parameter(torch.rand(1), requires_grad=True)\n",
    "        self.w01 = nn.Parameter(torch.rand(1), requires_grad= True)\n",
    "        self.b01 = nn.Parameter(torch.rand(1), requires_grad=True)\n",
    "        self.w02 = nn.Parameter(torch.rand(1), requires_grad= True)\n",
    "        self.b02 = nn.Parameter(torch.rand(1), requires_grad = True)\n",
    "\n",
    "        self.w10 = nn.Parameter(torch.rand(1), requires_grad = True)\n",
    "        self.w11 = nn.Parameter(torch.rand(1), requires_grad = True)\n",
    "        self.w12 = nn.Parameter(torch.rand(1), requires_grad = True)\n",
    "        self.w20 = nn.Parameter(torch.rand(1), requires_grad = True)\n",
    "\n",
    "    def forward(self, input):\n",
    "        input_to_layer01 = input*self.w00 + self.b00\n",
    "        layer01_output = fun.sigmoid(input_to_layer01)\n",
    "        layer01_output = layer01_output * self.w10\n",
    "\n",
    "        input_to_layer02 = input * self.w01 + self.b01\n",
    "        layer02_output = fun.sigmoid(input_to_layer02)\n",
    "        layer02_output = layer02_output * self.w11\n",
    "\n",
    "        input_to_layer03 = input * self.w02 + self.b02\n",
    "        layer03_output = fun.sigmoid(input_to_layer03)\n",
    "        layer03_output = layer03_output * self.w12\n",
    "\n",
    "        output = layer01_output + layer02_output + layer03_output\n",
    "\n",
    "        output = fun.tanh(output)\n",
    "        output = output * self.w20\n",
    "\n",
    "        return output\n",
    "        "
   ]
  },
  {
   "cell_type": "code",
   "execution_count": 70,
   "metadata": {},
   "outputs": [
    {
     "data": {
      "text/plain": [
       "tensor([0.3729, 0.3737, 0.3746, 0.3754, 0.3762, 0.3769, 0.3776, 0.3783, 0.3790,\n",
       "        0.3797, 0.3803, 0.3809, 0.3815, 0.3821, 0.3826, 0.3832, 0.3837, 0.3842,\n",
       "        0.3847, 0.3852, 0.3856, 0.3861, 0.3865, 0.3869, 0.3873, 0.3877, 0.3881,\n",
       "        0.3884, 0.3888, 0.3891, 0.3895, 0.3898, 0.3901, 0.3904, 0.3907, 0.3910,\n",
       "        0.3912, 0.3915, 0.3917, 0.3920], grad_fn=<MulBackward0>)"
      ]
     },
     "execution_count": 70,
     "metadata": {},
     "output_type": "execute_result"
    }
   ],
   "source": [
    "trainable_y = TrainableNN()\n",
    "\n",
    "y = trainable_y(x)\n",
    "\n",
    "y"
   ]
  },
  {
   "cell_type": "code",
   "execution_count": 71,
   "metadata": {},
   "outputs": [
    {
     "name": "stderr",
     "output_type": "stream",
     "text": [
      "c:\\Users\\diaal\\anaconda3\\Lib\\site-packages\\seaborn\\_oldcore.py:1119: FutureWarning: use_inf_as_na option is deprecated and will be removed in a future version. Convert inf values to NaN before operating instead.\n",
      "  with pd.option_context('mode.use_inf_as_na', True):\n",
      "c:\\Users\\diaal\\anaconda3\\Lib\\site-packages\\seaborn\\_oldcore.py:1119: FutureWarning: use_inf_as_na option is deprecated and will be removed in a future version. Convert inf values to NaN before operating instead.\n",
      "  with pd.option_context('mode.use_inf_as_na', True):\n"
     ]
    },
    {
     "data": {
      "text/plain": [
       "<Axes: >"
      ]
     },
     "execution_count": 71,
     "metadata": {},
     "output_type": "execute_result"
    },
    {
     "data": {
      "image/png": "[encoded data removed]",
      "text/plain": [
       "<Figure size 640x480 with 1 Axes>"
      ]
     },
     "metadata": {},
     "output_type": "display_data"
    }
   ],
   "source": [
    "sns.set(style=\"whitegrid\")\n",
    "sns.lineplot(\n",
    "    x = x,\n",
    "    y = y.detach(),\n",
    "    linewidth = 3,\n",
    "    color = \"red\"\n",
    ")"
   ]
  },
  {
   "cell_type": "code",
   "execution_count": 73,
   "metadata": {},
   "outputs": [
    {
     "ename": "TypeError",
     "evalue": "'module' object is not callable",
     "output_type": "error",
     "traceback": [
      "\u001b[1;31m---------------------------------------------------------------------------\u001b[0m",
      "\u001b[1;31mTypeError\u001b[0m                                 Traceback (most recent call last)",
      "Cell \u001b[1;32mIn[73], line 1\u001b[0m\n\u001b[1;32m----> 1\u001b[0m optimizer \u001b[38;5;241m=\u001b[39m sgd(trainable_y\u001b[38;5;241m.\u001b[39mparameters(), lr \u001b[38;5;241m=\u001b[39m \u001b[38;5;241m0.01\u001b[39m)\n\u001b[0;32m      2\u001b[0m loss \u001b[38;5;241m=\u001b[39m nn\u001b[38;5;241m.\u001b[39mMSELoss()\n",
      "\u001b[1;31mTypeError\u001b[0m: 'module' object is not callable"
     ]
    }
   ],
   "source": [
    "optimizer = sgd(trainable_y.parameters(), lr = 0.01)\n",
    "loss = nn.MSELoss()"
   ]
  },
  {
   "cell_type": "code",
   "execution_count": 45,
   "metadata": {},
   "outputs": [
    {
     "ename": "NameError",
     "evalue": "name 'loss' is not defined",
     "output_type": "error",
     "traceback": [
      "\u001b[1;31m---------------------------------------------------------------------------\u001b[0m",
      "\u001b[1;31mNameError\u001b[0m                                 Traceback (most recent call last)",
      "Cell \u001b[1;32mIn[45], line 9\u001b[0m\n\u001b[0;32m      5\u001b[0m actual_output \u001b[38;5;241m=\u001b[39m y[i]\n\u001b[0;32m      7\u001b[0m pred_output \u001b[38;5;241m=\u001b[39m trainable_y(input_i)\n\u001b[1;32m----> 9\u001b[0m loss_value \u001b[38;5;241m=\u001b[39m  loss(pred_output, actual_output)\n\u001b[0;32m     11\u001b[0m loss_value\u001b[38;5;241m.\u001b[39mbackward()\n\u001b[0;32m     13\u001b[0m total_loss \u001b[38;5;241m+\u001b[39m\u001b[38;5;241m=\u001b[39m loss_value\n",
      "\u001b[1;31mNameError\u001b[0m: name 'loss' is not defined"
     ]
    }
   ],
   "source": [
    "for epoch in range(50):\n",
    "    total_loss = 0\n",
    "    for i in range(len(x)):\n",
    "        input_i = x[i]\n",
    "        actual_output = y[i]\n",
    "\n",
    "        pred_output = trainable_y(input_i)\n",
    "\n",
    "        loss_value =  loss(pred_output, actual_output)\n",
    "\n",
    "        loss_value.backward()\n",
    "\n",
    "        total_loss += loss_value\n",
    "    \n",
    "    print(f\"epoch number: ${i} total loss: ${total_loss}\")\n",
    "    optimizer.step()\n",
    "    optimizer.zero_grad()\n"
   ]
  },
  {
   "cell_type": "code",
   "execution_count": null,
   "metadata": {},
   "outputs": [],
   "source": []
  }
 ],
 "metadata": {
  "kernelspec": {
   "display_name": "base",
   "language": "python",
   "name": "python3"
  },
  "language_info": {
   "codemirror_mode": {
    "name": "ipython",
    "version": 3
   },
   "file_extension": ".py",
   "mimetype": "text/x-python",
   "name": "python",
   "nbconvert_exporter": "python",
   "pygments_lexer": "ipython3",
   "version": "3.11.5"
  }
 },
 "nbformat": 4,
 "nbformat_minor": 2
}
